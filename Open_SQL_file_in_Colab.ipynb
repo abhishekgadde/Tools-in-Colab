{
  "nbformat": 4,
  "nbformat_minor": 0,
  "metadata": {
    "colab": {
      "name": "Open SQL file in Colab.ipynb",
      "provenance": []
    },
    "kernelspec": {
      "name": "python3",
      "display_name": "Python 3"
    },
    "language_info": {
      "name": "python"
    },
    "accelerator": "TPU"
  },
  "cells": [
    {
      "cell_type": "code",
      "execution_count": 4,
      "metadata": {
        "id": "oNs4C-xAsBMx"
      },
      "outputs": [],
      "source": [
        "\n",
        "def open_text(path: str) -> str:\n",
        "    with open(path, 'r') as file:\n",
        "        return file.read()\n",
        "\n",
        "# open the query file\n",
        "query = open_text('/content/dump (1).sql')"
      ]
    },
    {
      "cell_type": "code",
      "source": [
        ""
      ],
      "metadata": {
        "id": "rMCyYIRqwKlr"
      },
      "execution_count": 5,
      "outputs": []
    }
  ]
}